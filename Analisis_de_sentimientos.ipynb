{
 "cells": [
  {
   "cell_type": "code",
   "execution_count": 68,
   "id": "6026d97f",
   "metadata": {},
   "outputs": [],
   "source": [
    "from dotenv import load_dotenv\n",
    "import os\n",
    "import json\n",
    "import requests\n",
    "import pandas as pd\n",
    "from ibm_watson import NaturalLanguageUnderstandingV1\n",
    "from ibm_cloud_sdk_core.authenticators import IAMAuthenticator\n",
    "from ibm_watson.natural_language_understanding_v1 \\\n",
    "import Features, EmotionOptions\n",
    "from functools import reduce\n",
    "from math import sqrt"
   ]
  },
  {
   "cell_type": "code",
   "execution_count": 69,
   "id": "0e6f2721",
   "metadata": {},
   "outputs": [
    {
     "name": "stdout",
     "output_type": "stream",
     "text": [
      "{'emotion': {'sadness': 0.005441, 'joy': 0.997533, 'fear': 0.009288, 'disgust': 0.001843, 'anger': 0.002108}}\n"
     ]
    }
   ],
   "source": [
    "load_dotenv()\n",
    "THRESHOLD = 1.083274218344552\n",
    "MATRIZ_EMOCIONES_PERFECTA = '{ \"emotion\": {\"sadness\" : 0.005441, \"joy\" : 0.997533, \"fear\" : 0.009288, \"disgust\" : 0.001843, \"anger\" : 0.002108}}'\n",
    "MATRIZ_PRUEBA = '{ \"emotion\": {\"sadness\" : 0.523502, \"joy\" : 0.060197, \"fear\" : 0.034915, \"disgust\" : 0.124649, \"anger\" : 0.257796}}'\n",
    "print(json.loads(MATRIZ_EMOCIONES_PERFECTAS))"
   ]
  },
  {
   "cell_type": "code",
   "execution_count": 75,
   "id": "5158c3b7",
   "metadata": {},
   "outputs": [],
   "source": [
    "def preprocesar_imagen(url):\n",
    "    response = requests.get('https://api.imagga.com/v2/tags?image_url=%s' % url,\n",
    "                            auth=(os.environ.get('IMAGGA_API_KEY'), os.environ.get('IMAGGA_API_SECRET')))\n",
    "    return response.json()\n",
    "\n",
    "def extraer_emociones(texto):\n",
    "    authenticator = IAMAuthenticator(os.environ.get('IBM_API_KEY'))\n",
    "    natural_language_understanding = NaturalLanguageUnderstandingV1(version='2022-04-07',authenticator=authenticator)\n",
    "    natural_language_understanding.set_service_url(os.environ.get('IBM_URL_SERVICE'))\n",
    "    \n",
    "    response = natural_language_understanding.analyze(text=texto, features=Features(emotion=EmotionOptions())).get_result()\n",
    "    return json.dumps(response, indent=2)\n",
    "\n",
    "def calcular_ed(json1,json2):\n",
    "    data1 = json.loads(json1)\n",
    "    data2 = json.loads(json2)\n",
    "\n",
    "    x = list(data1['emotion'].values())\n",
    "    y = list(data2['emotion'].values())\n",
    "    print(x)\n",
    "\n",
    "    if len(x) != len(y):\n",
    "        raise ValueError(\"Las matrices deben tener la misma longitud\")\n",
    "\n",
    "    resultado = reduce(lambda a, b: a + b, [(yi - xi)**2 for xi, yi in zip(x, y)])\n",
    "    return sqrt(resultado)\n",
    "\n",
    "def clasificar(ed,threshold):\n",
    "    return 'positivo' if ed < threshold else 'negativo'"
   ]
  },
  {
   "cell_type": "code",
   "execution_count": 76,
   "id": "10a65391",
   "metadata": {},
   "outputs": [],
   "source": [
    "def traducir_texto(text):\n",
    "    url = \"https://nlp-translation.p.rapidapi.com/v1/translate\"\n",
    "\n",
    "    headers ={\n",
    "        \"X-RapidAPI-Key\": os.environ.get('NLP_API_KEY'),\n",
    "        \"X-RapidAPI-Host\": os.environ.get('NLP_API_HOST')\n",
    "    }\n",
    "    querystring = {\"text\":text,\"to\":\"en\"}\n",
    "    response = requests.get(url, headers=headers, params=querystring)\n",
    "\n",
    "    return response.json()"
   ]
  },
  {
   "cell_type": "code",
   "execution_count": 77,
   "id": "fb99ba9a",
   "metadata": {},
   "outputs": [],
   "source": [
    "def promedio(matriz1, matriz2):\n",
    "    #Obtener las dimensiones de ambas matrices\n",
    "    fil = len(matriz1)\n",
    "    col = len(matriz1)\n",
    "    #Creamos la matriz promedio\n",
    "    matriz_promedio = [[0] * col for _ in range(fil)]    \n",
    "    #Multiplicación de matrices\n",
    "    for i in range(fil):\n",
    "        for j in range (col):\n",
    "            promedio = (matriz1[i][j] + matriz2[i][j]) / 2\n",
    "            matriz_promedio[i][j] = promedio\n",
    "    return matriz_promedio"
   ]
  },
  {
   "cell_type": "code",
   "execution_count": 79,
   "id": "7f99bb95",
   "metadata": {},
   "outputs": [
    {
     "name": "stdout",
     "output_type": "stream",
     "text": [
      "{'result': {'tags': [{'confidence': 51.6775512695312, 'tag': {'en': 'hand'}}, {'confidence': 37.8711090087891, 'tag': {'en': 'technology'}}, {'confidence': 33.4202003479004, 'tag': {'en': 'business'}}, {'confidence': 33.1062202453613, 'tag': {'en': 'computer'}}, {'confidence': 32.4468803405762, 'tag': {'en': 'equipment'}}, {'confidence': 32.034065246582, 'tag': {'en': 'stereo'}}, {'confidence': 28.8875274658203, 'tag': {'en': 'device'}}, {'confidence': 25.4467754364014, 'tag': {'en': 'notebook'}}, {'confidence': 24.1064777374268, 'tag': {'en': 'office'}}, {'confidence': 23.8379878997803, 'tag': {'en': 'laptop'}}, {'confidence': 22.682991027832, 'tag': {'en': 'communication'}}, {'confidence': 21.9873161315918, 'tag': {'en': 'work'}}, {'confidence': 21.7257595062256, 'tag': {'en': 'hands'}}, {'confidence': 20.6586265563965, 'tag': {'en': 'keyboard'}}, {'confidence': 20.643533706665, 'tag': {'en': 'holding'}}, {'confidence': 20.257869720459, 'tag': {'en': 'person'}}, {'confidence': 20.0909461975098, 'tag': {'en': 'electronic equipment'}}, {'confidence': 18.8395977020264, 'tag': {'en': 'close'}}, {'confidence': 18.5690078735352, 'tag': {'en': 'working'}}, {'confidence': 18.4968128204346, 'tag': {'en': 'finger'}}, {'confidence': 18.2671566009521, 'tag': {'en': 'data'}}, {'confidence': 18.1970100402832, 'tag': {'en': 'closeup'}}, {'confidence': 17.7001953125, 'tag': {'en': 'job'}}, {'confidence': 17.4812908172607, 'tag': {'en': 'man'}}, {'confidence': 17.2987365722656, 'tag': {'en': 'people'}}, {'confidence': 17.2520484924316, 'tag': {'en': 'human'}}, {'confidence': 17.0262699127197, 'tag': {'en': 'digital'}}, {'confidence': 16.748836517334, 'tag': {'en': 'display'}}, {'confidence': 16.7356452941895, 'tag': {'en': 'button'}}, {'confidence': 16.6053485870361, 'tag': {'en': 'phone'}}, {'confidence': 16.1297168731689, 'tag': {'en': 'modern'}}, {'confidence': 16.1288051605225, 'tag': {'en': 'object'}}, {'confidence': 15.9467182159424, 'tag': {'en': 'information'}}, {'confidence': 15.7241897583008, 'tag': {'en': 'audio system'}}, {'confidence': 15.6126794815063, 'tag': {'en': 'male'}}, {'confidence': 15.1992874145508, 'tag': {'en': 'electronics'}}, {'confidence': 15.0900344848633, 'tag': {'en': 'mobile'}}, {'confidence': 14.3066720962524, 'tag': {'en': 'wireless'}}, {'confidence': 14.2893114089966, 'tag': {'en': 'fingers'}}, {'confidence': 14.0608501434326, 'tag': {'en': 'screen'}}, {'confidence': 14.0051050186157, 'tag': {'en': 'electronic'}}, {'confidence': 13.9006271362305, 'tag': {'en': 'telephone'}}, {'confidence': 13.7534980773926, 'tag': {'en': 'occupation'}}, {'confidence': 13.6163597106934, 'tag': {'en': 'headset'}}, {'confidence': 13.606707572937, 'tag': {'en': 'lens cap'}}, {'confidence': 13.5675811767578, 'tag': {'en': 'pen'}}, {'confidence': 12.802864074707, 'tag': {'en': 'connection'}}, {'confidence': 12.032865524292, 'tag': {'en': 'corporate'}}, {'confidence': 11.7651357650757, 'tag': {'en': 'paper'}}, {'confidence': 11.6679201126099, 'tag': {'en': 'keypad'}}, {'confidence': 11.5904140472412, 'tag': {'en': 'pointing'}}, {'confidence': 11.5016527175903, 'tag': {'en': 'key'}}, {'confidence': 11.4813652038574, 'tag': {'en': 'medical'}}, {'confidence': 11.4526062011719, 'tag': {'en': 'medicine'}}, {'confidence': 11.2603340148926, 'tag': {'en': 'education'}}, {'confidence': 11.076210975647, 'tag': {'en': 'hold'}}, {'confidence': 10.9870166778564, 'tag': {'en': 'finance'}}, {'confidence': 10.9497690200806, 'tag': {'en': 'cap'}}, {'confidence': 10.7215843200684, 'tag': {'en': 'typing'}}, {'confidence': 10.5984001159668, 'tag': {'en': 'businessman'}}, {'confidence': 10.1892833709717, 'tag': {'en': 'focus'}}, {'confidence': 9.91107082366943, 'tag': {'en': 'mouse'}}, {'confidence': 9.78568267822266, 'tag': {'en': 'input'}}, {'confidence': 9.71376800537109, 'tag': {'en': 'optical'}}, {'confidence': 9.5813045501709, 'tag': {'en': 'exam'}}, {'confidence': 9.40917110443115, 'tag': {'en': 'writing'}}, {'confidence': 9.28495979309082, 'tag': {'en': 'professional'}}, {'confidence': 9.24180793762207, 'tag': {'en': 'camera'}}, {'confidence': 9.2270336151123, 'tag': {'en': 'black'}}, {'confidence': 9.09132671356201, 'tag': {'en': 'portable computer'}}, {'confidence': 8.96193695068359, 'tag': {'en': 'one'}}, {'confidence': 8.66346549987793, 'tag': {'en': 'using'}}, {'confidence': 8.65343284606934, 'tag': {'en': 'desktop'}}, {'confidence': 8.646484375, 'tag': {'en': 'hardware'}}, {'confidence': 8.5729808807373, 'tag': {'en': 'blank'}}, {'confidence': 8.53096294403076, 'tag': {'en': 'tech'}}, {'confidence': 8.50521850585938, 'tag': {'en': 'desk'}}, {'confidence': 8.47559547424316, 'tag': {'en': 'web'}}, {'confidence': 8.46197319030762, 'tag': {'en': 'doctor'}}, {'confidence': 8.44306945800781, 'tag': {'en': 'showing'}}, {'confidence': 8.29538345336914, 'tag': {'en': 'executive'}}, {'confidence': 8.25630378723145, 'tag': {'en': 'letter'}}, {'confidence': 8.23325538635254, 'tag': {'en': 'care'}}, {'confidence': 8.22151756286621, 'tag': {'en': 'message'}}, {'confidence': 8.16385746002197, 'tag': {'en': 'protective covering'}}, {'confidence': 8.04883766174316, 'tag': {'en': 'success'}}, {'confidence': 8.02065467834473, 'tag': {'en': 'financial'}}, {'confidence': 7.99916696548462, 'tag': {'en': 'looking'}}, {'confidence': 7.96148109436035, 'tag': {'en': 'silver'}}, {'confidence': 7.85848140716553, 'tag': {'en': 'instrument'}}, {'confidence': 7.8117823600769, 'tag': {'en': 'modem'}}, {'confidence': 7.80132246017456, 'tag': {'en': 'beautician'}}, {'confidence': 7.79285335540771, 'tag': {'en': 'table'}}, {'confidence': 7.78887939453125, 'tag': {'en': 'paperwork'}}, {'confidence': 7.69053220748901, 'tag': {'en': 'monitor'}}, {'confidence': 7.65975332260132, 'tag': {'en': 'tool'}}, {'confidence': 7.64920282363892, 'tag': {'en': 'communicate'}}, {'confidence': 7.64507579803467, 'tag': {'en': 'health'}}, {'confidence': 7.62632656097412, 'tag': {'en': 'workplace'}}, {'confidence': 7.56541872024536, 'tag': {'en': 'plan'}}, {'confidence': 7.52481746673584, 'tag': {'en': 'hospital'}}, {'confidence': 7.42589855194092, 'tag': {'en': 'document'}}, {'confidence': 7.38297748565674, 'tag': {'en': 'part'}}, {'confidence': 7.29235363006592, 'tag': {'en': 'new'}}, {'confidence': 7.27329015731812, 'tag': {'en': 'businesswoman'}}, {'confidence': 7.23690605163574, 'tag': {'en': 'board'}}, {'confidence': 7.0757155418396, 'tag': {'en': 'call'}}]}, 'status': {'text': '', 'type': 'success'}}\n"
     ]
    }
   ],
   "source": [
    "print(preprocesar_imagen('https://pbs.twimg.com/media/FzBxSvfaIAAdjyf?format=jpg&name=4096x4096'))"
   ]
  },
  {
   "cell_type": "code",
   "execution_count": 80,
   "id": "e870baa2",
   "metadata": {},
   "outputs": [
    {
     "name": "stdout",
     "output_type": "stream",
     "text": [
      "{\n",
      "  \"usage\": {\n",
      "    \"text_units\": 1,\n",
      "    \"text_characters\": 55,\n",
      "    \"features\": 1\n",
      "  },\n",
      "  \"language\": \"en\",\n",
      "  \"emotion\": {\n",
      "    \"document\": {\n",
      "      \"emotion\": {\n",
      "        \"sadness\": 0.523046,\n",
      "        \"joy\": 0.100242,\n",
      "        \"fear\": 0.276363,\n",
      "        \"disgust\": 0.050727,\n",
      "        \"anger\": 0.051678\n",
      "      }\n",
      "    }\n",
      "  }\n",
      "}\n"
     ]
    }
   ],
   "source": [
    "print(extraer_emociones(\"@VirginAmerica and it's a really big bad thing about it\"))"
   ]
  },
  {
   "cell_type": "code",
   "execution_count": 81,
   "id": "089fd117",
   "metadata": {},
   "outputs": [
    {
     "name": "stdout",
     "output_type": "stream",
     "text": [
      "[0.523502, 0.060197, 0.034915, 0.124649, 0.257796]\n",
      "1.1081969079211509\n"
     ]
    }
   ],
   "source": [
    "print(calcular_ed(MATRIZ_PRUEBA,MATRIZ_EMOCIONES_PERFECTA))"
   ]
  },
  {
   "cell_type": "code",
   "execution_count": 82,
   "id": "94f88722",
   "metadata": {},
   "outputs": [
    {
     "name": "stdout",
     "output_type": "stream",
     "text": [
      "negativo\n"
     ]
    }
   ],
   "source": [
    "print(clasificar(1.1081969079,THRESHOLD))"
   ]
  },
  {
   "cell_type": "code",
   "execution_count": 83,
   "id": "e200c012",
   "metadata": {},
   "outputs": [
    {
     "name": "stdout",
     "output_type": "stream",
     "text": [
      "{'status': 200, 'from': 'es', 'to': 'en', 'original_text': 'Tome una piña colada y acabe ebrio', 'translated_text': {'en': 'Take a pina colada and end up drunk'}, 'translated_characters': 34}\n"
     ]
    }
   ],
   "source": [
    "print(traducir_texto('Tome una piña colada y acabe ebrio'))"
   ]
  },
  {
   "cell_type": "code",
   "execution_count": 84,
   "id": "99eae1bc",
   "metadata": {},
   "outputs": [
    {
     "name": "stdout",
     "output_type": "stream",
     "text": [
      "[[4.0, 5.0], [7.0, 8.0]]\n"
     ]
    }
   ],
   "source": [
    "matriz1 = [[1, 2, 3],\n",
    "           [4, 5, 6]]\n",
    "\n",
    "matriz2 = [[7, 8, 9],\n",
    "           [10, 11, 12]]\n",
    "\n",
    "print(promedio(matriz1,matriz2))"
   ]
  },
  {
   "cell_type": "code",
   "execution_count": null,
   "id": "46a74a08",
   "metadata": {},
   "outputs": [],
   "source": []
  }
 ],
 "metadata": {
  "kernelspec": {
   "display_name": "Python 3 (ipykernel)",
   "language": "python",
   "name": "python3"
  },
  "language_info": {
   "codemirror_mode": {
    "name": "ipython",
    "version": 3
   },
   "file_extension": ".py",
   "mimetype": "text/x-python",
   "name": "python",
   "nbconvert_exporter": "python",
   "pygments_lexer": "ipython3",
   "version": "3.10.11"
  }
 },
 "nbformat": 4,
 "nbformat_minor": 5
}
