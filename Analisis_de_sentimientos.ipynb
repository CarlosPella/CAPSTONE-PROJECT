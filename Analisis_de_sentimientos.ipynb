{
 "cells": [
  {
   "cell_type": "code",
   "execution_count": 5,
   "id": "6026d97f",
   "metadata": {},
   "outputs": [],
   "source": [
    "from dotenv import load_dotenv\n",
    "import os\n",
    "import json\n",
    "import requests\n",
    "import pandas as pd\n",
    "from ibm_watson import NaturalLanguageUnderstandingV1\n",
    "from ibm_cloud_sdk_core.authenticators import IAMAuthenticator\n",
    "from ibm_watson.natural_language_understanding_v1 \\\n",
    "import Features, EmotionOptions"
   ]
  },
  {
   "cell_type": "code",
   "execution_count": 6,
   "id": "0e6f2721",
   "metadata": {},
   "outputs": [
    {
     "name": "stdout",
     "output_type": "stream",
     "text": [
      "https://api.au-syd.natural-language-understanding.watson.cloud.ibm.com/instances/9d6221a9-72c3-4785-97bb-8ebd7ff5a543\n"
     ]
    }
   ],
   "source": [
    "load_dotenv()\n",
    "print(os.environ.get('IBM_URL_SERVICE'))"
   ]
  },
  {
   "cell_type": "code",
   "execution_count": null,
   "id": "5158c3b7",
   "metadata": {},
   "outputs": [],
   "source": [
    "df = pd.read_excel(r\"C:\\Users\\Carlos\\CAPSTONE-PROJECT\\recursos\\Tweets.xlsx\");"
   ]
  },
  {
   "cell_type": "code",
   "execution_count": 9,
   "id": "ec9611af",
   "metadata": {},
   "outputs": [
    {
     "name": "stdout",
     "output_type": "stream",
     "text": [
      "0                  @VirginAmerica What @dhepburn said.\n",
      "1    @VirginAmerica plus you've added commercials t...\n",
      "2    @VirginAmerica I didn't today... Must mean I n...\n",
      "3    @VirginAmerica it's really aggressive to blast...\n",
      "4    @VirginAmerica and it's a really big bad thing...\n",
      "5    @VirginAmerica seriously would pay $30 a fligh...\n",
      "6    @VirginAmerica yes, nearly every time I fly VX...\n",
      "7    @VirginAmerica Really missed a prime opportuni...\n",
      "8    @virginamerica Well, I didn'tâ€¦but NOW I DO! :-D\n",
      "Name: text, dtype: object\n"
     ]
    }
   ],
   "source": [
    "print(df['text'])"
   ]
  },
  {
   "cell_type": "code",
   "execution_count": 13,
   "id": "10a65391",
   "metadata": {},
   "outputs": [
    {
     "name": "stdout",
     "output_type": "stream",
     "text": [
      "{'status': 200, 'from': 'ha', 'to': 'en', 'original_text': 'casa blanca', 'translated_text': {'en': 'White House'}, 'translated_characters': 11}\n"
     ]
    }
   ],
   "source": [
    "#def traducir_texto(text):\n",
    "#EMPLEANDO NLP TRANSLATION API\n",
    "#    url = \"https://nlp-translation.p.rapidapi.com/v1/translate\"\n",
    "\n",
    "#    headers ={\n",
    "#        \"X-RapidAPI-Key\": os.environ.get('NLP_API_KEY'),\n",
    "#        \"X-RapidAPI-Host\": os.environ.get('NLP_API_HOST')\n",
    "#    }\n",
    "#    querystring = {\"text\":text,\"to\":\"en\"}\n",
    "#    response = requests.get(url, headers=headers, params=querystring)\n",
    "\n",
    "#    return response.json()"
   ]
  },
  {
   "cell_type": "code",
   "execution_count": 16,
   "id": "fb99ba9a",
   "metadata": {},
   "outputs": [
    {
     "name": "stdout",
     "output_type": "stream",
     "text": [
      "[[4.0, 5.0, 6.0], [7.0, 8.0, 9.0]]\n"
     ]
    }
   ],
   "source": [
    "def promedio(matriz1, matriz2):\n",
    "    #Obtener las dimensiones de ambas matrices\n",
    "    fil = len(matriz1)\n",
    "    col = len(matriz1[0])\n",
    "    #Creamos la matriz promedio\n",
    "    matriz_promedio = [[0] * col for _ in range(fil)]    \n",
    "    #Multiplicación de matrices\n",
    "    for i in range(fil):\n",
    "        for j in range (col):\n",
    "            promedio = (matriz1[i][j] + matriz2[i][j]) / 2\n",
    "            matriz_promedio[i][j] = promedio\n",
    "    return matriz_promedio"
   ]
  },
  {
   "cell_type": "code",
   "execution_count": null,
   "id": "cfbd0186",
   "metadata": {},
   "outputs": [],
   "source": []
  },
  {
   "cell_type": "code",
   "execution_count": null,
   "id": "bcb8d2cf",
   "metadata": {},
   "outputs": [],
   "source": []
  }
 ],
 "metadata": {
  "kernelspec": {
   "display_name": "Python 3 (ipykernel)",
   "language": "python",
   "name": "python3"
  },
  "language_info": {
   "codemirror_mode": {
    "name": "ipython",
    "version": 3
   },
   "file_extension": ".py",
   "mimetype": "text/x-python",
   "name": "python",
   "nbconvert_exporter": "python",
   "pygments_lexer": "ipython3",
   "version": "3.10.11"
  }
 },
 "nbformat": 4,
 "nbformat_minor": 5
}
