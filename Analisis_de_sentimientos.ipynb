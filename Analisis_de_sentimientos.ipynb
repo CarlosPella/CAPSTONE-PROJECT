{
 "cells": [
  {
   "cell_type": "code",
   "execution_count": 5,
   "id": "6026d97f",
   "metadata": {},
   "outputs": [],
   "source": [
    "from dotenv import load_dotenv\n",
    "import os\n",
    "import json\n",
    "import requests\n",
    "import pandas as pd\n",
    "from ibm_watson import NaturalLanguageUnderstandingV1\n",
    "from ibm_cloud_sdk_core.authenticators import IAMAuthenticator\n",
    "from ibm_watson.natural_language_understanding_v1 \\\n",
    "import Features, EmotionOptions"
   ]
  },
  {
   "cell_type": "code",
   "execution_count": 6,
   "id": "0e6f2721",
   "metadata": {},
   "outputs": [
    {
     "name": "stdout",
     "output_type": "stream",
     "text": [
      "https://api.au-syd.natural-language-understanding.watson.cloud.ibm.com/instances/9d6221a9-72c3-4785-97bb-8ebd7ff5a543\n"
     ]
    }
   ],
   "source": [
    "load_dotenv()\n",
    "print(os.environ.get('IBM_URL_SERVICE'))"
   ]
  },
  {
   "cell_type": "code",
   "execution_count": null,
   "id": "5158c3b7",
   "metadata": {},
   "outputs": [],
   "source": []
  },
  {
   "cell_type": "code",
   "execution_count": null,
   "id": "ec9611af",
   "metadata": {},
   "outputs": [],
   "source": []
  }
 ],
 "metadata": {
  "kernelspec": {
   "display_name": "Python 3 (ipykernel)",
   "language": "python",
   "name": "python3"
  },
  "language_info": {
   "codemirror_mode": {
    "name": "ipython",
    "version": 3
   },
   "file_extension": ".py",
   "mimetype": "text/x-python",
   "name": "python",
   "nbconvert_exporter": "python",
   "pygments_lexer": "ipython3",
   "version": "3.10.11"
  }
 },
 "nbformat": 4,
 "nbformat_minor": 5
}
